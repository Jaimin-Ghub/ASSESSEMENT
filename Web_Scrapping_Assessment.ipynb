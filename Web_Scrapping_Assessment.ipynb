{
 "cells": [
  {
   "cell_type": "markdown",
   "id": "1d5c4846-b563-4ca6-b43a-60cce4e3a94b",
   "metadata": {},
   "source": [
    "## Module 11) DA - Data Scrapping with Python - Assessment"
   ]
  },
  {
   "cell_type": "code",
   "execution_count": 18,
   "id": "9a9251fa-51fb-48c8-bf6c-fb03f77c3ee0",
   "metadata": {},
   "outputs": [],
   "source": [
    "import pandas as pd\n",
    "import numpy as np\n",
    "from bs4 import BeautifulSoup\n",
    "import requests"
   ]
  },
  {
   "cell_type": "code",
   "execution_count": 60,
   "id": "714e2b72-2bd6-42e2-b3f1-0a8f7e447db8",
   "metadata": {},
   "outputs": [
    {
     "name": "stdout",
     "output_type": "stream",
     "text": [
      "Quote: “The world as we have created it is a process of our thinking. It cannot be changed without changing our thinking.”\n",
      "Author: Albert Einstein\n",
      "Born:  March 14, 1879\n",
      "location:  in Ulm, Germany\n",
      "\n",
      "Quote: “It is our choices, Harry, that show what we truly are, far more than our abilities.”\n",
      "Author: J.K. Rowling\n",
      "Born:  July 31, 1965\n",
      "location:  in Yate, South Gloucestershire, England, The United Kingdom\n",
      "\n",
      "Quote: “There are only two ways to live your life. One is as though nothing is a miracle. The other is as though everything is a miracle.”\n",
      "Author: Albert Einstein\n",
      "Born:  March 14, 1879\n",
      "location:  in Ulm, Germany\n",
      "\n",
      "Quote: “The person, be it gentleman or lady, who has not pleasure in a good novel, must be intolerably stupid.”\n",
      "Author: Jane Austen\n",
      "Born:  December 16, 1775\n",
      "location:  in Steventon Rectory, Hampshire, The United Kingdom\n",
      "\n",
      "Quote: “Imperfection is beauty, madness is genius and it's better to be absolutely ridiculous than absolutely boring.”\n",
      "Author: Marilyn Monroe\n",
      "Born:  June 01, 1926\n",
      "location:  in The United States\n",
      "\n",
      "Quote: “Try not to become a man of success. Rather become a man of value.”\n",
      "Author: Albert Einstein\n",
      "Born:  March 14, 1879\n",
      "location:  in Ulm, Germany\n",
      "\n",
      "Quote: “It is better to be hated for what you are than to be loved for what you are not.”\n",
      "Author: André Gide\n",
      "Born:  November 22, 1869\n",
      "location:  in Paris, France\n",
      "\n",
      "Quote: “I have not failed. I've just found 10,000 ways that won't work.”\n",
      "Author: Thomas A. Edison\n",
      "Born:  February 11, 1847\n",
      "location:  in Milan, Ohio, The United States\n",
      "\n",
      "Quote: “A woman is like a tea bag; you never know how strong it is until it's in hot water.”\n",
      "Author: Eleanor Roosevelt\n",
      "Born:  October 11, 1884\n",
      "location:  in The United States\n",
      "\n",
      "Quote: “A day without sunshine is like, you know, night.”\n",
      "Author: Steve Martin\n",
      "Born:  August 14, 1945\n",
      "location:  in Waco, Texas, The United States\n",
      "\n"
     ]
    }
   ],
   "source": [
    "\n",
    "urll = \"http://quotes.toscrape.com\"\n",
    "\n",
    "response = requests.get(urll)\n",
    "soup = BeautifulSoup(response.text, 'html.parser')\n",
    "\n",
    "datas = soup.find_all(class_=\"quote\")\n",
    "\n",
    "for data in datas:\n",
    "    text = data.find(class_=\"text\").text\n",
    "    author = data.find(class_=\"author\").text\n",
    "    author_a = urll + data.find(\"a\")['href']\n",
    "    \n",
    "    author_re = requests.get(author_a)\n",
    "    author_soup = BeautifulSoup(author_re.text, 'html.parser')\n",
    "    born_date = author_soup.find(class_=\"author-born-date\").text\n",
    "    born_location = author_soup.find(class_=\"author-born-location\").text\n",
    "    \n",
    "# Website Quotes details print\n",
    "    print(\"Quote:\" ,text)\n",
    "    print(\"Author:\" ,author)\n",
    "    print(\"Born: \", born_date)\n",
    "    print(\"location: \", born_location)\n",
    "    print()"
   ]
  }
 ],
 "metadata": {
  "kernelspec": {
   "display_name": "Python 3 (ipykernel)",
   "language": "python",
   "name": "python3"
  },
  "language_info": {
   "codemirror_mode": {
    "name": "ipython",
    "version": 3
   },
   "file_extension": ".py",
   "mimetype": "text/x-python",
   "name": "python",
   "nbconvert_exporter": "python",
   "pygments_lexer": "ipython3",
   "version": "3.11.7"
  }
 },
 "nbformat": 4,
 "nbformat_minor": 5
}
